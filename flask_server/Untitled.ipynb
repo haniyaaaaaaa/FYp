{
 "cells": [
  {
   "cell_type": "code",
   "execution_count": 1,
   "id": "a6251ccb",
   "metadata": {},
   "outputs": [
    {
     "name": "stderr",
     "output_type": "stream",
     "text": [
      "C:\\ProgramData\\anaconda3\\Lib\\site-packages\\sklearn\\base.py:347: InconsistentVersionWarning: Trying to unpickle estimator SVC from version 1.0.2 when using version 1.3.0. This might lead to breaking code or invalid results. Use at your own risk. For more info please refer to:\n",
      "https://scikit-learn.org/stable/model_persistence.html#security-maintainability-limitations\n",
      "  warnings.warn(\n"
     ]
    },
    {
     "name": "stdout",
     "output_type": "stream",
     "text": [
      " * Serving Flask app '__main__'\n",
      " * Debug mode: off\n"
     ]
    },
    {
     "name": "stderr",
     "output_type": "stream",
     "text": [
      "WARNING: This is a development server. Do not use it in a production deployment. Use a production WSGI server instead.\n",
      " * Running on http://127.0.0.1:5000\n",
      "Press CTRL+C to quit\n",
      "127.0.0.1 - - [08/Dec/2023 12:27:28] \"GET / HTTP/1.1\" 404 -\n",
      "127.0.0.1 - - [08/Dec/2023 12:27:29] \"GET /favicon.ico HTTP/1.1\" 404 -\n",
      "127.0.0.1 - - [08/Dec/2023 12:27:42] \"GET /predict HTTP/1.1\" 405 -\n",
      "127.0.0.1 - - [08/Dec/2023 12:29:22] \"GET /home HTTP/1.1\" 200 -\n",
      "127.0.0.1 - - [08/Dec/2023 12:29:43] \"GET /predict HTTP/1.1\" 405 -\n",
      "127.0.0.1 - - [08/Dec/2023 12:33:13] \"GET /home HTTP/1.1\" 200 -\n",
      "127.0.0.1 - - [08/Dec/2023 12:49:03] \"GET / HTTP/1.1\" 404 -\n",
      "127.0.0.1 - - [08/Dec/2023 12:49:13] \"GET /home HTTP/1.1\" 200 -\n",
      "127.0.0.1 - - [08/Dec/2023 12:49:34] \"GET /home HTTP/1.1\" 200 -\n",
      "127.0.0.1 - - [08/Dec/2023 12:49:35] \"GET /home HTTP/1.1\" 200 -\n",
      "127.0.0.1 - - [08/Dec/2023 12:49:38] \"GET /home HTTP/1.1\" 200 -\n"
     ]
    }
   ],
   "source": [
    "from flask import Flask, request, jsonify\n",
    "import joblib\n",
    "from threading import Thread\n",
    "\n",
    "app = Flask(__name__)\n",
    "\n",
    "# Load your SVM model\n",
    "model = joblib.load('svm_model.pkl')\n",
    "\n",
    "@app.route(\"/home\", methods=[\"GET\"])\n",
    "def home():\n",
    "    return(\"Hello World, from flask\")\n",
    "\n",
    "@app.route('/predict', methods=['POST'])\n",
    "def predict():\n",
    "    # Get data from POST request\n",
    "    data = request.get_json()\n",
    "\n",
    "    # Ensure the data contains the expected parameters (modify as per your model's requirement)\n",
    "    if 'features' not in data:\n",
    "        return \"Invalid data\", 400\n",
    "\n",
    "    # Extract features for prediction\n",
    "    features = data['features']\n",
    "\n",
    "    # Make prediction\n",
    "    prediction = model.predict([features])\n",
    "\n",
    "    # Send back the prediction\n",
    "    return jsonify({'prediction': prediction[0]})\n",
    "\n",
    "# Run the app in a separate thread\n",
    "def run_app():\n",
    "    app.run(debug=False, use_reloader=False)\n",
    "\n",
    "flask_thread = Thread(target=run_app)\n",
    "flask_thread.start()\n"
   ]
  },
  {
   "cell_type": "code",
   "execution_count": null,
   "id": "2a2b76d2",
   "metadata": {},
   "outputs": [],
   "source": []
  }
 ],
 "metadata": {
  "kernelspec": {
   "display_name": "Python 3 (ipykernel)",
   "language": "python",
   "name": "python3"
  },
  "language_info": {
   "codemirror_mode": {
    "name": "ipython",
    "version": 3
   },
   "file_extension": ".py",
   "mimetype": "text/x-python",
   "name": "python",
   "nbconvert_exporter": "python",
   "pygments_lexer": "ipython3",
   "version": "3.11.5"
  }
 },
 "nbformat": 4,
 "nbformat_minor": 5
}
