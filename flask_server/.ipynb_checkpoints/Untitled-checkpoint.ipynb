{
 "cells": [
  {
   "cell_type": "code",
   "execution_count": null,
   "id": "1d5e29df",
   "metadata": {},
   "outputs": [],
   "source": [
    "from flask import Flask, request, jsonify\n",
    "import joblib\n",
    "from threading import Thread\n",
    "\n",
    "app = Flask(__name__)\n",
    "\n",
    "# Load your SVM model\n",
    "model = joblib.load('svm_model.pkl')\n",
    "\n",
    "@app.route(\"/home\", methods=[\"GET\"])\n",
    "def home():\n",
    "    return(\"Hello World, from flask\")\n",
    "\n",
    "@app.route('/predict', methods=['POST'])\n",
    "def predict():\n",
    "    # Get data from POST request\n",
    "    data = request.get_json()\n",
    "\n",
    "    # Ensure the data contains the expected parameters (modify as per your model's requirement)\n",
    "    if 'features' not in data:\n",
    "        return \"Invalid data\", 400\n",
    "\n",
    "    # Extract features for prediction\n",
    "    features = data['features']\n",
    "\n",
    "    # Make prediction\n",
    "    prediction = model.predict([features])\n",
    "\n",
    "    # Send back the prediction\n",
    "    return jsonify({'prediction': prediction[0]})\n",
    "\n",
    "# Run the app in a separate thread\n",
    "def run_app():\n",
    "    app.run(debug=False, use_reloader=False)\n",
    "\n",
    "flask_thread = Thread(target=run_app)\n",
    "flask_thread.start()\n"
   ]
  }
 ],
 "metadata": {
  "kernelspec": {
   "display_name": "Python 3 (ipykernel)",
   "language": "python",
   "name": "python3"
  },
  "language_info": {
   "codemirror_mode": {
    "name": "ipython",
    "version": 3
   },
   "file_extension": ".py",
   "mimetype": "text/x-python",
   "name": "python",
   "nbconvert_exporter": "python",
   "pygments_lexer": "ipython3",
   "version": "3.11.5"
  }
 },
 "nbformat": 4,
 "nbformat_minor": 5
}
